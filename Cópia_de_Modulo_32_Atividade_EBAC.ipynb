{
  "cells": [
    {
      "cell_type": "markdown",
      "id": "aadbf320",
      "metadata": {
        "id": "aadbf320"
      },
      "source": [
        "# Módulo 32 – Profissão Analista de Dados | EBAC\n",
        "### Aluna: Catherine Paula Chitolina Cornelio\n",
        "\n",
        "---\n",
        "\n",
        "## ✅ Objetivo\n",
        "Executar consultas no AWS Athena com filtros, curingas e seleção condicional, utilizando a tabela `transacoes`.\n",
        "\n",
        "---"
      ]
    },
    {
      "cell_type": "markdown",
      "id": "34203c46",
      "metadata": {
        "id": "34203c46"
      },
      "source": [
        "### 🔹 Consulta 1"
      ]
    },
    {
      "cell_type": "code",
      "execution_count": null,
      "id": "32d554c0",
      "metadata": {
        "id": "32d554c0"
      },
      "outputs": [],
      "source": [
        "SELECT *\n",
        "FROM transacoes\n",
        "WHERE valor > 30 AND id_loja = 'magalu';"
      ]
    },
    {
      "cell_type": "markdown",
      "id": "7b6cd732",
      "metadata": {
        "id": "7b6cd732"
      },
      "source": [
        "📎 **Resultado:** Faça o upload do arquivo `query1.csv` aqui."
      ]
    },
    {
      "cell_type": "markdown",
      "id": "a5ef851e",
      "metadata": {
        "id": "a5ef851e"
      },
      "source": [
        "### 🔹 Consulta 2"
      ]
    },
    {
      "cell_type": "code",
      "execution_count": null,
      "id": "df87a41d",
      "metadata": {
        "id": "df87a41d"
      },
      "outputs": [],
      "source": [
        "SELECT *\n",
        "FROM transacoes\n",
        "WHERE valor > 30 OR id_loja = 'magalu';"
      ]
    },
    {
      "cell_type": "markdown",
      "id": "d1142512",
      "metadata": {
        "id": "d1142512"
      },
      "source": [
        "📎 **Resultado:** Faça o upload do arquivo `query2.csv` aqui."
      ]
    },
    {
      "cell_type": "markdown",
      "id": "0704e652",
      "metadata": {
        "id": "0704e652"
      },
      "source": [
        "### 🔹 Consulta 3"
      ]
    },
    {
      "cell_type": "code",
      "execution_count": null,
      "id": "afc4c472",
      "metadata": {
        "id": "afc4c472"
      },
      "outputs": [],
      "source": [
        "SELECT *\n",
        "FROM transacoes\n",
        "WHERE id_loja IN ('magalu', 'subway') AND valor > 10;"
      ]
    },
    {
      "cell_type": "markdown",
      "id": "6c510dce",
      "metadata": {
        "id": "6c510dce"
      },
      "source": [
        "📎 **Resultado:** Faça o upload do arquivo `query3.csv` aqui."
      ]
    },
    {
      "cell_type": "markdown",
      "id": "e2b84cc7",
      "metadata": {
        "id": "e2b84cc7"
      },
      "source": [
        "### 🔹 Consulta 4"
      ]
    },
    {
      "cell_type": "code",
      "execution_count": null,
      "id": "817b4de4",
      "metadata": {
        "id": "817b4de4"
      },
      "outputs": [],
      "source": [
        "SELECT *\n",
        "FROM transacoes\n",
        "WHERE valor BETWEEN 60.0 AND 1000.0;"
      ]
    },
    {
      "cell_type": "markdown",
      "id": "3a4b3e09",
      "metadata": {
        "id": "3a4b3e09"
      },
      "source": [
        "📎 **Resultado:** Faça o upload do arquivo `query4.csv` aqui."
      ]
    },
    {
      "cell_type": "markdown",
      "id": "49582a85",
      "metadata": {
        "id": "49582a85"
      },
      "source": [
        "### 🔹 Consulta 5"
      ]
    },
    {
      "cell_type": "code",
      "execution_count": null,
      "id": "a9426660",
      "metadata": {
        "id": "a9426660"
      },
      "outputs": [],
      "source": [
        "SELECT *\n",
        "FROM transacoes\n",
        "WHERE id_loja LIKE 'mag%';"
      ]
    },
    {
      "cell_type": "markdown",
      "id": "27a9ddec",
      "metadata": {
        "id": "27a9ddec"
      },
      "source": [
        "📎 **Resultado:** Faça o upload do arquivo `query5.csv` aqui."
      ]
    },
    {
      "cell_type": "markdown",
      "id": "a2be9c87",
      "metadata": {
        "id": "a2be9c87"
      },
      "source": [
        "### 🔹 Consulta 6"
      ]
    },
    {
      "cell_type": "code",
      "execution_count": null,
      "id": "f4766b85",
      "metadata": {
        "id": "f4766b85"
      },
      "outputs": [],
      "source": [
        "SELECT *\n",
        "FROM transacoes\n",
        "WHERE id_loja LIKE '%sh%';"
      ]
    },
    {
      "cell_type": "markdown",
      "id": "d4ea8355",
      "metadata": {
        "id": "d4ea8355"
      },
      "source": [
        "📎 **Resultado:** Faça o upload do arquivo `query6.csv` aqui."
      ]
    },
    {
      "cell_type": "markdown",
      "id": "7b487e97",
      "metadata": {
        "id": "7b487e97"
      },
      "source": [
        "### 🔹 Consulta 7"
      ]
    },
    {
      "cell_type": "code",
      "execution_count": null,
      "id": "03fe14c0",
      "metadata": {
        "id": "03fe14c0"
      },
      "outputs": [],
      "source": [
        "SELECT id_cliente, id_loja, valor,\n",
        "  CASE\n",
        "    WHEN valor > 1000 THEN 'Compra com alto valor'\n",
        "    WHEN valor < 1000 THEN 'Compra com baixo valor'\n",
        "  END AS classeValor,\n",
        "  CASE\n",
        "    WHEN id_loja IN ('giraffas','subway') THEN 'alimentacao'\n",
        "    WHEN id_loja IN ('magalu','extra') THEN 'variedade'\n",
        "    WHEN id_loja IN ('postoshell','seveneleven') THEN '24horas'\n",
        "    ELSE 'outros'\n",
        "  END AS tipo_compra\n",
        "FROM transacoes;"
      ]
    },
    {
      "cell_type": "markdown",
      "id": "0febe243",
      "metadata": {
        "id": "0febe243"
      },
      "source": [
        "📎 **Resultado:** Faça o upload do arquivo `query7.csv` aqui."
      ]
    },
    {
      "cell_type": "code",
      "source": [
        "import os\n",
        "\n",
        "# Lista todos os arquivos .csv enviados para o ambiente\n",
        "for file in os.listdir():\n",
        "    if file.endswith(\".csv\"):\n",
        "        print(file)\n"
      ],
      "metadata": {
        "colab": {
          "base_uri": "https://localhost:8080/"
        },
        "id": "eL8oRPL0Yk0G",
        "outputId": "a3857e9b-61e1-4bd8-e244-47e0cd14adf1"
      },
      "id": "eL8oRPL0Yk0G",
      "execution_count": null,
      "outputs": [
        {
          "output_type": "stream",
          "name": "stdout",
          "text": [
            "query3.csv\n",
            "query4.csv\n",
            "query2.csv\n",
            "query7.csv\n",
            "query1.csv\n",
            "query6.csv\n",
            "query5.csv\n"
          ]
        }
      ]
    },
    {
      "cell_type": "code",
      "source": [
        "import os\n",
        "\n",
        "print(\"Arquivos CSV presentes no ambiente:\\n\")\n",
        "for file in os.listdir():\n",
        "    if file.endswith(\".csv\"):\n",
        "        print(\"📁\", file)\n"
      ],
      "metadata": {
        "id": "mhoPgD1JYx4U",
        "outputId": "9223506f-5bb9-448a-c386-343cfc873eeb",
        "colab": {
          "base_uri": "https://localhost:8080/"
        }
      },
      "id": "mhoPgD1JYx4U",
      "execution_count": null,
      "outputs": [
        {
          "output_type": "stream",
          "name": "stdout",
          "text": [
            "Arquivos CSV presentes no ambiente:\n",
            "\n",
            "📁 query3.csv\n",
            "📁 query4.csv\n",
            "📁 query2.csv\n",
            "📁 query7.csv\n",
            "📁 query1.csv\n",
            "📁 query6.csv\n",
            "📁 query5.csv\n"
          ]
        }
      ]
    },
    {
      "cell_type": "markdown",
      "id": "f5f418f6",
      "metadata": {
        "id": "f5f418f6"
      },
      "source": [
        "---\n",
        "\n",
        "## ✅ Conclusão\n",
        "\n",
        "Todas as consultas foram executadas no AWS Athena com sucesso, e os resultados exportados em arquivos `.csv`, conforme solicitado pela atividade prática do Módulo 32 da EBAC.\n"
      ]
    }
  ],
  "metadata": {
    "colab": {
      "provenance": []
    },
    "language_info": {
      "name": "python"
    },
    "kernelspec": {
      "name": "python3",
      "display_name": "Python 3"
    }
  },
  "nbformat": 4,
  "nbformat_minor": 5
}